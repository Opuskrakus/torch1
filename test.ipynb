{
 "cells": [
  {
   "cell_type": "code",
   "execution_count": 1,
   "id": "1b7a25cd",
   "metadata": {},
   "outputs": [],
   "source": [
    "import numpy as np\n",
    "import torch"
   ]
  },
  {
   "cell_type": "code",
   "execution_count": 14,
   "id": "8ef4718e",
   "metadata": {},
   "outputs": [
    {
     "name": "stdout",
     "output_type": "stream",
     "text": [
      "[9 4 4]\n"
     ]
    }
   ],
   "source": [
    "# NumPy\n",
    "\n",
    "a = np.array([3, 4, 5])\n",
    "b = np.array([6, 0, -1])\n",
    "c = a + b  # [5, 7, 9]\n",
    "print(c)\n",
    "\n"
   ]
  },
  {
   "cell_type": "code",
   "execution_count": 7,
   "id": "aee729d9",
   "metadata": {},
   "outputs": [
    {
     "name": "stdout",
     "output_type": "stream",
     "text": [
      "tensor([9, 4, 4])\n"
     ]
    }
   ],
   "source": [
    "# PyTorch\n",
    "\n",
    "a = torch.tensor([3, 4, 5])\n",
    "b = torch.tensor([6, 0, -1])\n",
    "c = a + b  # tensor([5, 7, 9])\n",
    "print(c)\n"
   ]
  },
  {
   "cell_type": "code",
   "execution_count": 8,
   "id": "dd744113",
   "metadata": {},
   "outputs": [],
   "source": [
    "# matris = torch.randint(0, 10, (3, 4))\n",
    "# print(matris)\n",
    "\n",
    "matris = torch.tensor([[5, 0, 3, 2],\n",
    "        [7, 7, 6, 3],\n",
    "        [1, 9, 5, 6]])"
   ]
  },
  {
   "cell_type": "code",
   "execution_count": 10,
   "id": "83c2d8f6",
   "metadata": {},
   "outputs": [
    {
     "name": "stdout",
     "output_type": "stream",
     "text": [
      "tensor([48, 73, 58, 48])\n"
     ]
    }
   ],
   "source": [
    "result = a @ matris\n",
    "print(result)"
   ]
  },
  {
   "cell_type": "code",
   "execution_count": 3,
   "id": "e08fe293",
   "metadata": {},
   "outputs": [
    {
     "name": "stdout",
     "output_type": "stream",
     "text": [
      "CUDA available: True\n",
      "Using device: cuda\n",
      "GPU name: NVIDIA GeForce RTX 3070\n"
     ]
    }
   ],
   "source": [
    "import torch\n",
    "\n",
    "# Check if CUDA (GPU support) is available\n",
    "print(\"CUDA available:\", torch.cuda.is_available())\n",
    "\n",
    "# Print the current device\n",
    "device = torch.device(\"cuda\" if torch.cuda.is_available() else \"cpu\")\n",
    "print(\"Using device:\", device)\n",
    "\n",
    "# Optional: Get the name of the GPU (if available)\n",
    "if torch.cuda.is_available():\n",
    "    print(\"GPU name:\", torch.cuda.get_device_name(0))\n"
   ]
  },
  {
   "cell_type": "code",
   "execution_count": null,
   "id": "2661d70d",
   "metadata": {},
   "outputs": [
    {
     "data": {
      "text/plain": [
       "tensor([18,  0, -5])"
      ]
     },
     "execution_count": 11,
     "metadata": {},
     "output_type": "execute_result"
    }
   ],
   "source": [
    "#Detta är en funktionell version av a * b. Den gör samma sak som elementvis multiplikation:\n",
    "torch.mul(a, b)\n",
    "# elementvis = a * b"
   ]
  },
  {
   "cell_type": "code",
   "execution_count": null,
   "id": "7bf394ca",
   "metadata": {},
   "outputs": [],
   "source": [
    "#Detta är matris-multiplikation men funkar bara för 2D-tensorer. 🔒 Går ej att använda om a eller b är mer än 2D.\n",
    "torch.mm(a, b)\n"
   ]
  },
  {
   "cell_type": "code",
   "execution_count": null,
   "id": "e08cac0f",
   "metadata": {},
   "outputs": [],
   "source": [
    "#Batch matrix multiplication – används när du har flera matriser i en batch. Tensorerna måste ha shape (batch_size, n, m).\n",
    "torch.bmm(a, b)"
   ]
  },
  {
   "cell_type": "code",
   "execution_count": null,
   "id": "26ff180e",
   "metadata": {},
   "outputs": [],
   "source": [
    "\n",
    "torch.matmul(a, b)\n",
    "# a @ b\n",
    "# Detta är matrisprodukt eller dot product beroende på dimensionerna.\n",
    "#     Vektor · vektor → skalar\n",
    "#     Matris · vektor → vektor\n",
    "#     Matris · matris → matris"
   ]
  }
 ],
 "metadata": {
  "kernelspec": {
   "display_name": "venv",
   "language": "python",
   "name": "python3"
  },
  "language_info": {
   "codemirror_mode": {
    "name": "ipython",
    "version": 3
   },
   "file_extension": ".py",
   "mimetype": "text/x-python",
   "name": "python",
   "nbconvert_exporter": "python",
   "pygments_lexer": "ipython3",
   "version": "3.12.3"
  }
 },
 "nbformat": 4,
 "nbformat_minor": 5
}
